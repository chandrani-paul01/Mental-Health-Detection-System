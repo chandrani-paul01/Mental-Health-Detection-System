{
  "nbformat": 4,
  "nbformat_minor": 0,
  "metadata": {
    "colab": {
      "provenance": []
    },
    "kernelspec": {
      "name": "python3",
      "display_name": "Python 3"
    },
    "language_info": {
      "name": "python"
    }
  },
  "cells": [
    {
      "cell_type": "code",
      "execution_count": 3,
      "metadata": {
        "id": "zGrcIXrOhD6A"
      },
      "outputs": [],
      "source": [
        "import numpy as np\n",
        "import pandas as pd\n",
        "import matplotlib.pyplot as plt"
      ]
    },
    {
      "cell_type": "code",
      "source": [
        "df = pd.read_csv('survey.csv')"
      ],
      "metadata": {
        "id": "jdU-yczDhq9n"
      },
      "execution_count": 4,
      "outputs": []
    },
    {
      "cell_type": "code",
      "source": [
        "df.head(20)"
      ],
      "metadata": {
        "id": "_n1q5Uhvj9O7"
      },
      "execution_count": null,
      "outputs": []
    },
    {
      "cell_type": "code",
      "source": [
        "df.describe()"
      ],
      "metadata": {
        "id": "o7OYVmHhh8fJ"
      },
      "execution_count": null,
      "outputs": []
    },
    {
      "cell_type": "code",
      "source": [
        "df.info()"
      ],
      "metadata": {
        "id": "7jTX_RuKiLj-"
      },
      "execution_count": null,
      "outputs": []
    },
    {
      "cell_type": "code",
      "source": [
        "df.shape"
      ],
      "metadata": {
        "id": "aSW93T_uiknr"
      },
      "execution_count": null,
      "outputs": []
    },
    {
      "cell_type": "code",
      "source": [
        "df.isnull().sum().sort_values(ascending=False)"
      ],
      "metadata": {
        "id": "o_8hj4NzkEVu"
      },
      "execution_count": null,
      "outputs": []
    },
    {
      "cell_type": "markdown",
      "source": [
        "### DATA PREPROCESSING"
      ],
      "metadata": {
        "id": "4eRvCACoz0Ew"
      }
    },
    {
      "cell_type": "code",
      "source": [
        "#Dropping Unnessary Features : 'Comments','State' ,'Country' and 'TimeStamp'\n",
        "\n",
        "df.drop(['comments'], axis= 1, inplace=True)\n",
        "df.drop(['state'], axis= 1, inplace=True)\n",
        "df.drop(['Country'], axis= 1, inplace=True)\n",
        "df.drop(['Timestamp'], axis= 1, inplace=True)\n",
        "\n"
      ],
      "metadata": {
        "id": "aqOaC8shIHL2"
      },
      "execution_count": null,
      "outputs": []
    },
    {
      "cell_type": "code",
      "source": [
        "df['Gender'].unique()"
      ],
      "metadata": {
        "id": "xVsRWiZdQpyf"
      },
      "execution_count": null,
      "outputs": []
    },
    {
      "cell_type": "code",
      "source": [
        "df['Gender'].value_counts()"
      ],
      "metadata": {
        "id": "Z1iLyUzqsa9d"
      },
      "execution_count": null,
      "outputs": []
    },
    {
      "cell_type": "code",
      "source": [
        "df['Gender'].value_counts().plot(kind = 'bar',figsize=(8,8))"
      ],
      "metadata": {
        "id": "jKVkLTpuS3DV"
      },
      "execution_count": null,
      "outputs": []
    },
    {
      "cell_type": "code",
      "source": [
        "# Getting Rid of Unnecassary Values in Feature 'Gender'\n",
        "\n",
        "df['Gender'].replace(['male','M','m','Make','Man','Mair','Guy (-ish) ^_^',\n",
        "                     'male leaning androgynous','Cis Man','msle','cis male','Mail',\n",
        "                     'Androgyne','Male (CIS)','Male-ish','maile','something kinda male?',\n",
        "                     'Mal','ostensibly male, unsure what that really means','Malr',\n",
        "                      'Cis Male','Male '],'Male',inplace=True)\n",
        "\n",
        "df['Gender'].replace(['female','F','f','Female ','Female (cis)','Femail',\n",
        "                      'Femake', 'woman','Cis Female','femail','Woman',\n",
        "                      'cis-female/femme'],'Female',inplace = True)\n",
        "\n",
        "df['Gender'].replace(['Trans-female','queer/she/they', 'non-binary', 'Nah',\n",
        "       'All', 'Enby', 'fluid', 'Genderqueer', 'Agender', 'Trans woman',\n",
        "       'Neuter', 'Female (trans)', 'queer'],'Other',inplace = True)\n",
        "\n",
        "stk_list = ['A little about you', 'p']\n",
        "df = df[~df['Gender'].isin(stk_list)]"
      ],
      "metadata": {
        "id": "puNte6n-U9bN"
      },
      "execution_count": null,
      "outputs": []
    },
    {
      "cell_type": "code",
      "source": [
        "df['Gender'].unique()"
      ],
      "metadata": {
        "id": "qNYMcNJ6Wl-L"
      },
      "execution_count": null,
      "outputs": []
    },
    {
      "cell_type": "code",
      "source": [
        "df['Gender'].value_counts().plot(kind = 'bar',figsize=(8,8))"
      ],
      "metadata": {
        "id": "C8k0bl6_ydJZ"
      },
      "execution_count": null,
      "outputs": []
    },
    {
      "cell_type": "code",
      "source": [
        "df['Age'].value_counts().plot(kind = 'bar',figsize=(8,8))"
      ],
      "metadata": {
        "id": "hF-H8bUj2mMC"
      },
      "execution_count": null,
      "outputs": []
    },
    {
      "cell_type": "code",
      "source": [
        "df['Age'].value_counts()"
      ],
      "metadata": {
        "id": "liMapxfd5VQU"
      },
      "execution_count": null,
      "outputs": []
    },
    {
      "cell_type": "code",
      "source": [
        "#Range of data\n",
        "\n",
        "df['Age'].value_counts().sort_index()"
      ],
      "metadata": {
        "id": "sBJ4Ut-TA4Kp"
      },
      "execution_count": null,
      "outputs": []
    },
    {
      "cell_type": "code",
      "source": [
        "#Finding mean from ages between 18 and 75\n",
        "\n",
        "mean_age = df[(df['Age'] <= 75) & (df['Age'] >= 18)]['Age'].mean()\n",
        "mean_age=mean_age.astype(int)\n",
        "mean_age"
      ],
      "metadata": {
        "id": "KCKzr_lh7Gvk"
      },
      "execution_count": null,
      "outputs": []
    },
    {
      "cell_type": "code",
      "source": [
        "#Fixing Wrong Data in Age Feature 'Age'\n",
        "\n",
        "df['Age'].replace(99999999999,mean_age,inplace=True)\n",
        "df['Age'].replace(329,mean_age,inplace=True)\n",
        "df['Age'].replace(-29,mean_age,inplace=True)\n",
        "\n",
        "df['Age'].replace(-1726 ,mean_age,inplace=True)\n",
        "df['Age'].replace(5 ,mean_age,inplace=True)\n",
        "df['Age'].replace(11 ,mean_age,inplace=True)\n",
        "\n",
        "\n",
        "df['Age'].value_counts()"
      ],
      "metadata": {
        "id": "rMk1xDxL8iyA"
      },
      "execution_count": null,
      "outputs": []
    },
    {
      "cell_type": "code",
      "source": [
        "#Range of Feature \"Age\"\n",
        "\n",
        "bins = [18,25,35,45,75];\n",
        "age_cats = [\"18-25\", \"25-35\", \"35-45\", \">45\"]\n",
        "Age_Range = pd.cut(df['Age'], bins, labels= age_cats, include_lowest=True)\n",
        "Age_Range.value_counts().plot(kind = 'bar',figsize=(8,8))"
      ],
      "metadata": {
        "id": "USOlsLtrBl6H"
      },
      "execution_count": null,
      "outputs": []
    },
    {
      "cell_type": "markdown",
      "source": [
        "#Filling Missing Data\n"
      ],
      "metadata": {
        "id": "GrO5mEaUOIU6"
      }
    },
    {
      "cell_type": "code",
      "source": [
        "df.isnull().sum().sort_values(ascending=False)"
      ],
      "metadata": {
        "id": "YeGAFMrU2g8N"
      },
      "execution_count": null,
      "outputs": []
    },
    {
      "cell_type": "code",
      "source": [
        "df['self_employed'].value_counts()"
      ],
      "metadata": {
        "id": "kkEA8yX105VD"
      },
      "execution_count": null,
      "outputs": []
    },
    {
      "cell_type": "code",
      "source": [
        "df['self_employed'].fillna('No',inplace=True)"
      ],
      "metadata": {
        "id": "zUpQuy2T1lBo"
      },
      "execution_count": null,
      "outputs": []
    },
    {
      "cell_type": "code",
      "source": [
        "df['work_interfere'].value_counts()"
      ],
      "metadata": {
        "id": "sLQ_5fKm1u7Q"
      },
      "execution_count": null,
      "outputs": []
    },
    {
      "cell_type": "code",
      "source": [
        "df['work_interfere'].fillna('Not Sure',inplace=True)"
      ],
      "metadata": {
        "id": "Cj1dIDLp11CV"
      },
      "execution_count": null,
      "outputs": []
    },
    {
      "cell_type": "code",
      "source": [
        "df['work_interfere'].value_counts()"
      ],
      "metadata": {
        "id": "IfEbrt1w2Oia"
      },
      "execution_count": null,
      "outputs": []
    },
    {
      "cell_type": "code",
      "source": [
        "df.isnull().sum().sort_values(ascending=False)"
      ],
      "metadata": {
        "id": "fzBr9x4c2oxV"
      },
      "execution_count": null,
      "outputs": []
    },
    {
      "cell_type": "code",
      "source": [
        "df.info()"
      ],
      "metadata": {
        "id": "Th6aaoBbF_VF"
      },
      "execution_count": null,
      "outputs": []
    },
    {
      "cell_type": "markdown",
      "source": [
        "#Scaling"
      ],
      "metadata": {
        "id": "VGaruXQQzQAz"
      }
    },
    {
      "cell_type": "code",
      "source": [
        "from sklearn.preprocessing import MinMaxScaler"
      ],
      "metadata": {
        "id": "8k1nHRkpzCRW"
      },
      "execution_count": null,
      "outputs": []
    },
    {
      "cell_type": "code",
      "source": [
        "scaler = MinMaxScaler()\n",
        "df['Age'] = scaler.fit_transform(df[['Age']])"
      ],
      "metadata": {
        "id": "IXbk-vKJzGsp"
      },
      "execution_count": null,
      "outputs": []
    },
    {
      "cell_type": "code",
      "source": [
        "df.head(10)"
      ],
      "metadata": {
        "id": "3euBwlhIzSZ3"
      },
      "execution_count": null,
      "outputs": []
    },
    {
      "cell_type": "markdown",
      "source": [
        "#Preprocessing categorical features\n"
      ],
      "metadata": {
        "id": "L7ivNouvRPzD"
      }
    },
    {
      "cell_type": "code",
      "source": [
        "from sklearn.compose import ColumnTransformer\n",
        "from sklearn.preprocessing import OrdinalEncoder"
      ],
      "metadata": {
        "id": "XkjfHEJfRLYT"
      },
      "execution_count": null,
      "outputs": []
    },
    {
      "cell_type": "code",
      "source": [
        "# Seperating i/p and o/p\n",
        "\n",
        "X = df.drop('treatment',axis=1)\n",
        "y=df['treatment']"
      ],
      "metadata": {
        "id": "zEcJ0v4RSGgm"
      },
      "execution_count": null,
      "outputs": []
    },
    {
      "cell_type": "code",
      "source": [
        "transformer =  ColumnTransformer([('ordinal_encoder',OrdinalEncoder(),['Gender','self_employed',\n",
        "                                  'family_history','work_interfere','no_employees','remote_work',\n",
        "                                  'tech_company' ,'benefits','care_options','wellness_program',\n",
        "                                  'seek_help','anonymity','leave','mental_health_consequence',\n",
        "                                  'phys_health_consequence','coworkers','supervisor','mental_health_interview',\n",
        "                                  'phys_health_interview','mental_vs_physical','obs_consequence'])],remainder='passthrough')"
      ],
      "metadata": {
        "id": "BIM4dN1aSzKH"
      },
      "execution_count": null,
      "outputs": []
    },
    {
      "cell_type": "code",
      "source": [
        "X = transformer.fit_transform(X)"
      ],
      "metadata": {
        "id": "Y29XT-Q4Wzyt"
      },
      "execution_count": null,
      "outputs": []
    },
    {
      "cell_type": "code",
      "source": [
        "X"
      ],
      "metadata": {
        "id": "pjDbRoLNY7Tx"
      },
      "execution_count": null,
      "outputs": []
    },
    {
      "cell_type": "code",
      "source": [
        "from sklearn.preprocessing import LabelEncoder"
      ],
      "metadata": {
        "id": "AtIkKBHLI3VK"
      },
      "execution_count": null,
      "outputs": []
    },
    {
      "cell_type": "code",
      "source": [
        "label_encoder = LabelEncoder();\n",
        "y = label_encoder.fit_transform(y);"
      ],
      "metadata": {
        "id": "gx_ALJejJU-B"
      },
      "execution_count": null,
      "outputs": []
    },
    {
      "cell_type": "code",
      "source": [
        "y"
      ],
      "metadata": {
        "id": "vZJAWldBJhvj"
      },
      "execution_count": null,
      "outputs": []
    },
    {
      "cell_type": "markdown",
      "source": [
        "#Splitting DataSet Into Train/Test Set\n"
      ],
      "metadata": {
        "id": "9L1syNKKditG"
      }
    },
    {
      "cell_type": "code",
      "source": [
        "from sklearn.model_selection import train_test_split"
      ],
      "metadata": {
        "id": "tp76PqEZc27Y"
      },
      "execution_count": null,
      "outputs": []
    },
    {
      "cell_type": "code",
      "source": [
        "X_train, X_test, y_train, y_test = train_test_split(X,y,test_size=0.3, random_state=42)"
      ],
      "metadata": {
        "id": "jEPGBaC0fCfV"
      },
      "execution_count": null,
      "outputs": []
    },
    {
      "cell_type": "code",
      "source": [
        "print(X_train.shape, X_test.shape, y_train.shape, y_test.shape)"
      ],
      "metadata": {
        "id": "9qLRBu2kf3nA"
      },
      "execution_count": null,
      "outputs": []
    },
    {
      "cell_type": "markdown",
      "source": [
        "#**Evaluating Models**\n",
        "\n"
      ],
      "metadata": {
        "id": "RmPKKAxRZ1hg"
      }
    },
    {
      "cell_type": "markdown",
      "source": [
        "##Logistic Regression"
      ],
      "metadata": {
        "id": "Hj6NoruD3BS7"
      }
    },
    {
      "cell_type": "code",
      "source": [
        "from sklearn.linear_model import LogisticRegression"
      ],
      "metadata": {
        "id": "M-6nnCYxc4GC"
      },
      "execution_count": null,
      "outputs": []
    },
    {
      "cell_type": "code",
      "source": [
        "log_reg = LogisticRegression()\n",
        "log_reg.fit(X_train, y_train)"
      ],
      "metadata": {
        "id": "9h6MbELaho6L"
      },
      "execution_count": null,
      "outputs": []
    },
    {
      "cell_type": "code",
      "source": [
        "from sklearn.metrics import accuracy_score,roc_curve, roc_auc_score,confusion_matrix,precision_score,recall_score,precision_recall_curve,f1_score\n",
        "from sklearn.model_selection import cross_val_score,cross_val_predict"
      ],
      "metadata": {
        "id": "c4hFQUSz0DFm"
      },
      "execution_count": null,
      "outputs": []
    },
    {
      "cell_type": "markdown",
      "source": [
        "###Accuracy"
      ],
      "metadata": {
        "id": "uXFHLfJ9Ri_S"
      }
    },
    {
      "cell_type": "code",
      "source": [
        "cross_val_score(log_reg, X_train, y_train, cv=3, scoring='accuracy')"
      ],
      "metadata": {
        "id": "Cl8Y-i6w1dE1"
      },
      "execution_count": null,
      "outputs": []
    },
    {
      "cell_type": "markdown",
      "source": [
        "###Confusion Matrix"
      ],
      "metadata": {
        "id": "ewcS1oOmRfbv"
      }
    },
    {
      "cell_type": "code",
      "source": [
        "y_pred_log = cross_val_predict(log_reg, X_train, y_train, cv=3)"
      ],
      "metadata": {
        "id": "fdpn73S61Z0p"
      },
      "execution_count": null,
      "outputs": []
    },
    {
      "cell_type": "code",
      "source": [
        "confusion_matrix_log = confusion_matrix(y_train, y_pred_log)"
      ],
      "metadata": {
        "id": "cYYcDkWA5KUd"
      },
      "execution_count": null,
      "outputs": []
    },
    {
      "cell_type": "code",
      "source": [
        "import numpy as np\n",
        "import matplotlib.pyplot as plt\n",
        "import seaborn as sns\n",
        "\n",
        "# Plot the confusion matrix\n",
        "plt.figure(figsize=(6, 4))\n",
        "sns.set(font_scale=1.0)\n",
        "sns.heatmap(confusion_matrix_log, annot=True, fmt='d', cmap='Blues', cbar=False,\n",
        "            xticklabels=['Actual Negative', 'Actual Positive'],\n",
        "            yticklabels=['Predicted Negative', 'Predicted Positive'])\n",
        "plt.xlabel('True Label')\n",
        "plt.ylabel('Predicted Label')\n",
        "plt.title('Confusion Matrix')\n",
        "plt.show()"
      ],
      "metadata": {
        "id": "UE5PdmAV5pI2"
      },
      "execution_count": null,
      "outputs": []
    },
    {
      "cell_type": "markdown",
      "source": [
        "###Precision/Recall/F1 Score"
      ],
      "metadata": {
        "id": "qrzmfszGRRMN"
      }
    },
    {
      "cell_type": "code",
      "source": [
        "precision_score(y_train, y_pred_log)"
      ],
      "metadata": {
        "id": "n2tBgkZN5_Uc"
      },
      "execution_count": null,
      "outputs": []
    },
    {
      "cell_type": "code",
      "source": [
        "recall_score(y_train, y_pred_log)"
      ],
      "metadata": {
        "id": "Y7B054Ca6KQe"
      },
      "execution_count": null,
      "outputs": []
    },
    {
      "cell_type": "code",
      "source": [
        "f1_score(y_train, y_pred_log)"
      ],
      "metadata": {
        "id": "lrEXYiXsSDoP"
      },
      "execution_count": null,
      "outputs": []
    },
    {
      "cell_type": "markdown",
      "source": [
        "###Precision-Recall Curve"
      ],
      "metadata": {
        "id": "FBL0uaZMSNjd"
      }
    },
    {
      "cell_type": "code",
      "source": [
        "y_scores = cross_val_predict(log_reg, X_train, y_train, cv=3, method='decision_function')"
      ],
      "metadata": {
        "id": "L29Nw4G675Q7"
      },
      "execution_count": null,
      "outputs": []
    },
    {
      "cell_type": "code",
      "source": [
        "precisions, recalls, thresholds = precision_recall_curve(y_train, y_scores)"
      ],
      "metadata": {
        "id": "BjwZjRMN7p3j"
      },
      "execution_count": null,
      "outputs": []
    },
    {
      "cell_type": "code",
      "source": [
        "print(len(precisions))\n",
        "print(len(recalls))\n",
        "print(len(thresholds))"
      ],
      "metadata": {
        "id": "uOQ1B_i98IJ4"
      },
      "execution_count": null,
      "outputs": []
    },
    {
      "cell_type": "code",
      "source": [
        "plt.plot(thresholds, precisions[:-1], 'b-', label='Precision')\n",
        "plt.plot(thresholds, recalls[:-1], 'r--', label='Recall')\n",
        "plt.legend(loc='center left')\n",
        "plt.show()"
      ],
      "metadata": {
        "id": "hLrVxaoc8Mh9"
      },
      "execution_count": null,
      "outputs": []
    },
    {
      "cell_type": "markdown",
      "source": [
        "###ROC Curve"
      ],
      "metadata": {
        "id": "FuZnmLaUQzxU"
      }
    },
    {
      "cell_type": "code",
      "source": [
        "fpr, tpr, thresholds = roc_curve(y_train, y_scores)"
      ],
      "metadata": {
        "id": "3AffnS0P8mL6"
      },
      "execution_count": null,
      "outputs": []
    },
    {
      "cell_type": "code",
      "source": [
        "plt.plot(fpr, tpr, 'b-', label='SGD')\n",
        "plt.plot([0, 1], [0, 1], 'g-', label='Random Classifier')\n",
        "plt.legend(loc='center right')\n",
        "plt.show()"
      ],
      "metadata": {
        "id": "EmhtCdV48q4O"
      },
      "execution_count": null,
      "outputs": []
    },
    {
      "cell_type": "code",
      "source": [
        "roc_auc_score(y_train,  y_scores)"
      ],
      "metadata": {
        "id": "q1FTTkWSv2qy"
      },
      "execution_count": null,
      "outputs": []
    },
    {
      "cell_type": "markdown",
      "source": [
        "###Prediction Accuracy"
      ],
      "metadata": {
        "id": "ILEpLckLfPIa"
      }
    },
    {
      "cell_type": "code",
      "source": [
        "y_pred_actual_log_reg = log_reg.predict(X_test)\n",
        "accuracy = accuracy_score(y_test,y_pred_actual_log_reg)\n",
        "accuracy"
      ],
      "metadata": {
        "id": "lnYv7K7pfTOX"
      },
      "execution_count": null,
      "outputs": []
    },
    {
      "cell_type": "markdown",
      "source": [
        "##Decision Tree"
      ],
      "metadata": {
        "id": "-bGQO8mEf4Sh"
      }
    },
    {
      "cell_type": "code",
      "source": [
        "from sklearn.tree import DecisionTreeClassifier\n",
        "\n",
        "decision_tree = DecisionTreeClassifier()\n",
        "decision_tree.fit(X_train,y_train)\n"
      ],
      "metadata": {
        "id": "bT7o6DoGf7i2"
      },
      "execution_count": null,
      "outputs": []
    },
    {
      "cell_type": "markdown",
      "source": [
        "###Accuracy"
      ],
      "metadata": {
        "id": "vKSVaYW_xX41"
      }
    },
    {
      "cell_type": "code",
      "source": [
        "cross_val_score(decision_tree, X_train, y_train, cv=3, scoring='accuracy')"
      ],
      "metadata": {
        "id": "rIf27FOyl5SW"
      },
      "execution_count": null,
      "outputs": []
    },
    {
      "cell_type": "markdown",
      "source": [
        "###Confusion Matrix"
      ],
      "metadata": {
        "id": "gpMrNeLXxhl0"
      }
    },
    {
      "cell_type": "code",
      "source": [
        "y_pred_dec_tree = cross_val_predict(decision_tree, X_train, y_train, cv=3)"
      ],
      "metadata": {
        "id": "JLZd1MqImJ4q"
      },
      "execution_count": null,
      "outputs": []
    },
    {
      "cell_type": "code",
      "source": [
        "confusion_matrix_dec_tree = confusion_matrix(y_train, y_pred_dec_tree)"
      ],
      "metadata": {
        "id": "ERxeTrAdmKkH"
      },
      "execution_count": null,
      "outputs": []
    },
    {
      "cell_type": "code",
      "source": [
        "# Plot the confusion matrix\n",
        "plt.figure(figsize=(6, 4))\n",
        "sns.set(font_scale=1.0)\n",
        "sns.heatmap(confusion_matrix_dec_tree, annot=True, fmt='d', cmap='Blues', cbar=False,\n",
        "            xticklabels=['Actual Negative', 'Actual Positive'],\n",
        "            yticklabels=['Predicted Negative', 'Predicted Positive'])\n",
        "plt.xlabel('True Label')\n",
        "plt.ylabel('Predicted Label')\n",
        "plt.title('Confusion Matrix')\n",
        "plt.show()"
      ],
      "metadata": {
        "id": "bdjzOTmyxmyg"
      },
      "execution_count": null,
      "outputs": []
    },
    {
      "cell_type": "markdown",
      "source": [
        "###Precision/Recall/F1 score"
      ],
      "metadata": {
        "id": "WNm53U8Fu99V"
      }
    },
    {
      "cell_type": "code",
      "source": [
        "precision_score(y_train, y_pred_dec_tree)"
      ],
      "metadata": {
        "id": "pT6Knmwyuw29"
      },
      "execution_count": null,
      "outputs": []
    },
    {
      "cell_type": "code",
      "source": [
        "recall_score(y_train, y_pred_dec_tree)"
      ],
      "metadata": {
        "id": "4po5cl2au0_n"
      },
      "execution_count": null,
      "outputs": []
    },
    {
      "cell_type": "code",
      "source": [
        "f1_score(y_train, y_pred_dec_tree)"
      ],
      "metadata": {
        "id": "v6hyzEgvu5AY"
      },
      "execution_count": null,
      "outputs": []
    },
    {
      "cell_type": "markdown",
      "source": [
        "###Precision-Recall Curve"
      ],
      "metadata": {
        "id": "Ww9oqSdHu8vE"
      }
    },
    {
      "cell_type": "code",
      "source": [
        "y_probas_dec = cross_val_predict(decision_tree, X_train, y_train, cv=3, method='predict_proba')"
      ],
      "metadata": {
        "id": "H3VSsf40wCa3"
      },
      "execution_count": null,
      "outputs": []
    },
    {
      "cell_type": "code",
      "source": [
        "y_scores_dec = y_probas_dec[:, 1]"
      ],
      "metadata": {
        "id": "JGwLU0WzGDp_"
      },
      "execution_count": null,
      "outputs": []
    },
    {
      "cell_type": "code",
      "source": [
        "precisions_dec, recall_dec, thresholds_dec = precision_recall_curve(y_train, y_scores_dec)"
      ],
      "metadata": {
        "id": "XsXmRGDLGQiz"
      },
      "execution_count": null,
      "outputs": []
    },
    {
      "cell_type": "code",
      "source": [
        "plt.plot(thresholds_dec, precisions_dec[:-1], 'b-', label='Precision')\n",
        "plt.plot(thresholds_dec, recall_dec[:-1], 'r--', label='Recall')\n",
        "plt.legend(loc='center left')\n",
        "plt.show()"
      ],
      "metadata": {
        "id": "UPsdwAh4GhK3"
      },
      "execution_count": null,
      "outputs": []
    },
    {
      "cell_type": "markdown",
      "source": [
        "###ROC Curve"
      ],
      "metadata": {
        "id": "6AKams8gvSF_"
      }
    },
    {
      "cell_type": "code",
      "source": [
        "fpr_dec, tpr_dec, thresholds_dec = roc_curve(y_train, y_scores_dec)"
      ],
      "metadata": {
        "id": "SH4MeqcYvS1p"
      },
      "execution_count": null,
      "outputs": []
    },
    {
      "cell_type": "code",
      "source": [
        "plt.plot(fpr, tpr, 'b-', label='Logistic Regression')\n",
        "plt.plot(fpr_dec, tpr_dec, 'r-', label='Decision Tree')\n",
        "plt.plot([0, 1], [0, 1], 'g-', label='Random Classifier')\n",
        "plt.legend(loc='center right')\n",
        "plt.show()"
      ],
      "metadata": {
        "id": "wY_4iFBOGsX2"
      },
      "execution_count": null,
      "outputs": []
    },
    {
      "cell_type": "code",
      "source": [
        "roc_auc_score(y_train,  y_scores_dec)"
      ],
      "metadata": {
        "id": "i3E9AJRPHQLN"
      },
      "execution_count": null,
      "outputs": []
    },
    {
      "cell_type": "markdown",
      "source": [
        "###Prediction Accuracy\n"
      ],
      "metadata": {
        "id": "tekCYTSFxQ3h"
      }
    },
    {
      "cell_type": "code",
      "source": [
        "y_pred_actual_decision_tree = decision_tree.predict(X_test)\n",
        "accuracy = accuracy_score(y_test,y_pred_actual_decision_tree)\n",
        "accuracy"
      ],
      "metadata": {
        "id": "BLqU0dvTxHX6"
      },
      "execution_count": null,
      "outputs": []
    },
    {
      "cell_type": "markdown",
      "source": [
        "##Random Forest"
      ],
      "metadata": {
        "id": "eDaL7H_5tu2f"
      }
    },
    {
      "cell_type": "code",
      "source": [
        "from sklearn.ensemble import RandomForestClassifier"
      ],
      "metadata": {
        "id": "xiUsFF4suLgU"
      },
      "execution_count": null,
      "outputs": []
    },
    {
      "cell_type": "code",
      "source": [
        "rand_for = RandomForestClassifier()\n",
        "rand_for.fit(X_train, y_train)"
      ],
      "metadata": {
        "id": "tfL2n-1PuS-2"
      },
      "execution_count": null,
      "outputs": []
    },
    {
      "cell_type": "markdown",
      "source": [
        "###Accuracy"
      ],
      "metadata": {
        "id": "VreKf9jWtjrL"
      }
    },
    {
      "cell_type": "code",
      "source": [
        "cross_val_score(rand_for, X_train, y_train, cv=3, scoring='accuracy')"
      ],
      "metadata": {
        "id": "P5JMEGWLtctG"
      },
      "execution_count": null,
      "outputs": []
    },
    {
      "cell_type": "markdown",
      "source": [
        "###Confusion Matrix"
      ],
      "metadata": {
        "id": "2kHyCDVbyqEo"
      }
    },
    {
      "cell_type": "code",
      "source": [
        "y_pred_rand_for = cross_val_predict(rand_for, X_train, y_train, cv=3)"
      ],
      "metadata": {
        "id": "6PXhfpYmwY2x"
      },
      "execution_count": null,
      "outputs": []
    },
    {
      "cell_type": "code",
      "source": [
        "confusion_matrix_rand_for = confusion_matrix(y_train, y_pred_dec_tree)"
      ],
      "metadata": {
        "id": "KHHha_Odwjvy"
      },
      "execution_count": null,
      "outputs": []
    },
    {
      "cell_type": "code",
      "source": [
        "plt.figure(figsize=(6, 4))\n",
        "sns.set(font_scale=1.0)\n",
        "sns.heatmap(confusion_matrix_rand_for, annot=True, fmt='d', cmap='Blues', cbar=False,\n",
        "            xticklabels=['Actual Negative', 'Actual Positive'],\n",
        "            yticklabels=['Predicted Negative', 'Predicted Positive'])\n",
        "plt.xlabel('True Label')\n",
        "plt.ylabel('Predicted Label')\n",
        "plt.title('Confusion Matrix')\n",
        "plt.show()"
      ],
      "metadata": {
        "id": "UhlRGabBwuid"
      },
      "execution_count": null,
      "outputs": []
    },
    {
      "cell_type": "markdown",
      "source": [
        "###Precision/Recall/F1 Score\n"
      ],
      "metadata": {
        "id": "wAgtPVLByuCX"
      }
    },
    {
      "cell_type": "code",
      "source": [
        "precision_score(y_train, y_pred_rand_for)"
      ],
      "metadata": {
        "id": "hkIxCHjSxCII"
      },
      "execution_count": null,
      "outputs": []
    },
    {
      "cell_type": "code",
      "source": [
        "recall_score(y_train, y_pred_rand_for)"
      ],
      "metadata": {
        "id": "Sl4JR8GMxI85"
      },
      "execution_count": null,
      "outputs": []
    },
    {
      "cell_type": "code",
      "source": [
        "f1_score(y_train, y_pred_rand_for)"
      ],
      "metadata": {
        "id": "DHMrkROKxLEM"
      },
      "execution_count": null,
      "outputs": []
    },
    {
      "cell_type": "markdown",
      "source": [
        "###Precision-Recall Curve"
      ],
      "metadata": {
        "id": "P0BOaqq80nJO"
      }
    },
    {
      "cell_type": "code",
      "source": [
        "y_probas = cross_val_predict(rand_for, X_train, y_train, cv=3, method='predict_proba')"
      ],
      "metadata": {
        "id": "TIj7OQsbuXo7"
      },
      "execution_count": null,
      "outputs": []
    },
    {
      "cell_type": "code",
      "source": [
        "y_scores_rand = y_probas[:, 1]"
      ],
      "metadata": {
        "id": "UW_ZnMr0uzlv"
      },
      "execution_count": null,
      "outputs": []
    },
    {
      "cell_type": "code",
      "source": [
        "precisions_rand, recall_rand, thresholds_rand = precision_recall_curve(y_train, y_scores_rand)"
      ],
      "metadata": {
        "id": "TifRZN1Px03M"
      },
      "execution_count": null,
      "outputs": []
    },
    {
      "cell_type": "code",
      "source": [
        "plt.plot(thresholds_rand, precisions_rand[:-1], 'b-', label='Precision')\n",
        "plt.plot(thresholds_rand, recall_rand[:-1], 'r--', label='Recall')\n",
        "plt.legend(loc='center left')\n",
        "plt.show()"
      ],
      "metadata": {
        "id": "TCqOQ88nx-e5"
      },
      "execution_count": null,
      "outputs": []
    },
    {
      "cell_type": "code",
      "source": [
        "i = np.argmax(recall_rand < 0.9)"
      ],
      "metadata": {
        "id": "rvikhlkqArjg"
      },
      "execution_count": null,
      "outputs": []
    },
    {
      "cell_type": "code",
      "source": [
        "recall_rand[i]"
      ],
      "metadata": {
        "id": "n3UaZcqrA3Ja"
      },
      "execution_count": null,
      "outputs": []
    },
    {
      "cell_type": "code",
      "source": [
        "recall_rand[i-1]"
      ],
      "metadata": {
        "id": "QhwHkB3WA4K0"
      },
      "execution_count": null,
      "outputs": []
    },
    {
      "cell_type": "code",
      "source": [
        "i"
      ],
      "metadata": {
        "id": "6_E74FiBA-sR"
      },
      "execution_count": null,
      "outputs": []
    },
    {
      "cell_type": "code",
      "source": [
        "threshold_90_recall = thresholds_rand[i - 1]"
      ],
      "metadata": {
        "id": "ss_mXPqTBx7b"
      },
      "execution_count": null,
      "outputs": []
    },
    {
      "cell_type": "code",
      "source": [
        "y_preds_90_recall = y_scores_rand >= threshold_90_recall"
      ],
      "metadata": {
        "id": "nn4rt3sxBnD0"
      },
      "execution_count": null,
      "outputs": []
    },
    {
      "cell_type": "code",
      "source": [
        "precision_score(y_train, y_preds_90_recall)"
      ],
      "metadata": {
        "id": "0_qV0NxRCRP2"
      },
      "execution_count": null,
      "outputs": []
    },
    {
      "cell_type": "code",
      "source": [
        "recall_score(y_train, y_preds_90_recall)"
      ],
      "metadata": {
        "id": "gcLlR7Q6CUlR"
      },
      "execution_count": null,
      "outputs": []
    },
    {
      "cell_type": "code",
      "source": [
        "y_pred_actual_random_forest = rand_for.predict(X_test)\n",
        "accuracy = accuracy_score(y_test,y_pred_actual_random_forest)\n",
        "accuracy"
      ],
      "metadata": {
        "id": "Kj3MuUnFCfWq"
      },
      "execution_count": null,
      "outputs": []
    },
    {
      "cell_type": "markdown",
      "source": [
        "###ROC Curve"
      ],
      "metadata": {
        "id": "YM2sJLbAyDVn"
      }
    },
    {
      "cell_type": "code",
      "source": [
        "fpr_rand, tpr_rand, thresholds_rand = roc_curve(y_train, y_scores_rand)"
      ],
      "metadata": {
        "id": "axL6-uIZu2qS"
      },
      "execution_count": null,
      "outputs": []
    },
    {
      "cell_type": "code",
      "source": [
        "plt.plot(fpr, tpr, 'b-', label='Logistic Regression')\n",
        "plt.plot(fpr_dec, tpr_dec, 'r-', label='Decision Tree')\n",
        "plt.plot(fpr_rand, tpr_rand, 'y-', label='RandomForest')\n",
        "plt.plot([0, 1], [0, 1], 'g-', label='Random Classifier')\n",
        "plt.legend(loc='center right')\n",
        "plt.show()"
      ],
      "metadata": {
        "id": "efHafmR-u-ak"
      },
      "execution_count": null,
      "outputs": []
    },
    {
      "cell_type": "code",
      "source": [
        "roc_auc_score(y_train,  y_scores_rand)"
      ],
      "metadata": {
        "id": "kFAUXayUwBuW"
      },
      "execution_count": null,
      "outputs": []
    },
    {
      "cell_type": "markdown",
      "source": [
        "###Prediction Accuracy"
      ],
      "metadata": {
        "id": "BXyJH84t0zMl"
      }
    },
    {
      "cell_type": "code",
      "source": [
        "y_pred_actual_random_forest = rand_for.predict(X_test)\n",
        "accuracy = accuracy_score(y_test,y_pred_actual_random_forest)\n",
        "accuracy"
      ],
      "metadata": {
        "id": "cp_6qeqAy-QE"
      },
      "execution_count": null,
      "outputs": []
    },
    {
      "cell_type": "code",
      "source": [
        "a = X_test[5,:]"
      ],
      "metadata": {
        "id": "sw0NhWYs09fk"
      },
      "execution_count": null,
      "outputs": []
    },
    {
      "cell_type": "code",
      "source": [
        "y_test[5]"
      ],
      "metadata": {
        "id": "F60rcg3A176u"
      },
      "execution_count": null,
      "outputs": []
    },
    {
      "cell_type": "code",
      "source": [
        "rand_for.predict(a.reshape(1,-1))"
      ],
      "metadata": {
        "colab": {
          "base_uri": "https://localhost:8080/"
        },
        "id": "vTlQD4dR1M8K",
        "outputId": "814aa781-397d-4313-c0d2-2fabee0da9fd"
      },
      "execution_count": null,
      "outputs": [
        {
          "output_type": "execute_result",
          "data": {
            "text/plain": [
              "array([1])"
            ]
          },
          "metadata": {},
          "execution_count": 96
        }
      ]
    },
    {
      "cell_type": "markdown",
      "source": [
        "# Hyperparameter Tuning"
      ],
      "metadata": {
        "id": "VCgoKxMJJn_8"
      }
    },
    {
      "cell_type": "code",
      "source": [
        "from sklearn.model_selection import GridSearchCV"
      ],
      "metadata": {
        "id": "BH7n5Bd1JnLm"
      },
      "execution_count": null,
      "outputs": []
    },
    {
      "cell_type": "code",
      "source": [
        "param_grid = {\n",
        "    'n_estimators': [50,100,150],\n",
        "    'max_depth': [10, 20, 30, None],\n",
        "    'min_samples_split': [2, 5, 10],\n",
        "    'min_samples_leaf': [1, 2, 4],\n",
        "    'max_features': [ 6,8,10],\n",
        "    'bootstrap': [True, False],\n",
        "    'criterion': ['gini', 'entropy'],\n",
        "    'class_weight': [None, 'balanced']\n",
        "}\n"
      ],
      "metadata": {
        "id": "MzIUR1AdMPXt"
      },
      "execution_count": null,
      "outputs": []
    },
    {
      "cell_type": "code",
      "source": [
        "param_grid2 = [{\n",
        "    'n_estimators': [100, 200, 300],\n",
        "    'max_depth': [10, 20, 30, None],\n",
        "    'min_samples_split': [2, 5, 10],\n",
        "    'min_samples_leaf': [1, 2, 4],\n",
        "    'max_features': [4,6,8,10,12],\n",
        "    'bootstrap': [True, False],\n",
        "    'criterion': ['gini', 'entropy'],\n",
        "    'class_weight': [None, 'balanced']\n",
        "}]"
      ],
      "metadata": {
        "id": "lneKoEIEz16S"
      },
      "execution_count": null,
      "outputs": []
    },
    {
      "cell_type": "code",
      "source": [
        "# param_grid = [\n",
        "#     {'n_estimators': [3, 10, 30], 'max_features': [ 6, 8,10,12]},\n",
        "#     {'bootstrap': [False], 'n_estimators': [3, 10], 'max_features': [2, 3, 4]}\n",
        "# ]"
      ],
      "metadata": {
        "id": "ikVzDxYdgDgz"
      },
      "execution_count": null,
      "outputs": []
    },
    {
      "cell_type": "code",
      "source": [
        "cv = GridSearchCV(rand_for, param_grid, cv=3)"
      ],
      "metadata": {
        "id": "wdJ-FVGPMzfA"
      },
      "execution_count": null,
      "outputs": []
    },
    {
      "cell_type": "code",
      "source": [
        "cv.fit(X_train, y_train)"
      ],
      "metadata": {
        "colab": {
          "base_uri": "https://localhost:8080/",
          "height": 116
        },
        "id": "6T2tVFj0N8tp",
        "outputId": "1b017138-5cc4-403b-bfeb-f662ae0fdfce"
      },
      "execution_count": null,
      "outputs": [
        {
          "output_type": "execute_result",
          "data": {
            "text/plain": [
              "GridSearchCV(cv=3, estimator=RandomForestClassifier(),\n",
              "             param_grid={'bootstrap': [True, False],\n",
              "                         'class_weight': [None, 'balanced'],\n",
              "                         'criterion': ['gini', 'entropy'],\n",
              "                         'max_depth': [10, 20, 30, None],\n",
              "                         'max_features': [6, 8, 10],\n",
              "                         'min_samples_leaf': [1, 2, 4],\n",
              "                         'min_samples_split': [2, 5, 10],\n",
              "                         'n_estimators': [50, 100, 150]})"
            ],
            "text/html": [
              "<style>#sk-container-id-8 {color: black;background-color: white;}#sk-container-id-8 pre{padding: 0;}#sk-container-id-8 div.sk-toggleable {background-color: white;}#sk-container-id-8 label.sk-toggleable__label {cursor: pointer;display: block;width: 100%;margin-bottom: 0;padding: 0.3em;box-sizing: border-box;text-align: center;}#sk-container-id-8 label.sk-toggleable__label-arrow:before {content: \"▸\";float: left;margin-right: 0.25em;color: #696969;}#sk-container-id-8 label.sk-toggleable__label-arrow:hover:before {color: black;}#sk-container-id-8 div.sk-estimator:hover label.sk-toggleable__label-arrow:before {color: black;}#sk-container-id-8 div.sk-toggleable__content {max-height: 0;max-width: 0;overflow: hidden;text-align: left;background-color: #f0f8ff;}#sk-container-id-8 div.sk-toggleable__content pre {margin: 0.2em;color: black;border-radius: 0.25em;background-color: #f0f8ff;}#sk-container-id-8 input.sk-toggleable__control:checked~div.sk-toggleable__content {max-height: 200px;max-width: 100%;overflow: auto;}#sk-container-id-8 input.sk-toggleable__control:checked~label.sk-toggleable__label-arrow:before {content: \"▾\";}#sk-container-id-8 div.sk-estimator input.sk-toggleable__control:checked~label.sk-toggleable__label {background-color: #d4ebff;}#sk-container-id-8 div.sk-label input.sk-toggleable__control:checked~label.sk-toggleable__label {background-color: #d4ebff;}#sk-container-id-8 input.sk-hidden--visually {border: 0;clip: rect(1px 1px 1px 1px);clip: rect(1px, 1px, 1px, 1px);height: 1px;margin: -1px;overflow: hidden;padding: 0;position: absolute;width: 1px;}#sk-container-id-8 div.sk-estimator {font-family: monospace;background-color: #f0f8ff;border: 1px dotted black;border-radius: 0.25em;box-sizing: border-box;margin-bottom: 0.5em;}#sk-container-id-8 div.sk-estimator:hover {background-color: #d4ebff;}#sk-container-id-8 div.sk-parallel-item::after {content: \"\";width: 100%;border-bottom: 1px solid gray;flex-grow: 1;}#sk-container-id-8 div.sk-label:hover label.sk-toggleable__label {background-color: #d4ebff;}#sk-container-id-8 div.sk-serial::before {content: \"\";position: absolute;border-left: 1px solid gray;box-sizing: border-box;top: 0;bottom: 0;left: 50%;z-index: 0;}#sk-container-id-8 div.sk-serial {display: flex;flex-direction: column;align-items: center;background-color: white;padding-right: 0.2em;padding-left: 0.2em;position: relative;}#sk-container-id-8 div.sk-item {position: relative;z-index: 1;}#sk-container-id-8 div.sk-parallel {display: flex;align-items: stretch;justify-content: center;background-color: white;position: relative;}#sk-container-id-8 div.sk-item::before, #sk-container-id-8 div.sk-parallel-item::before {content: \"\";position: absolute;border-left: 1px solid gray;box-sizing: border-box;top: 0;bottom: 0;left: 50%;z-index: -1;}#sk-container-id-8 div.sk-parallel-item {display: flex;flex-direction: column;z-index: 1;position: relative;background-color: white;}#sk-container-id-8 div.sk-parallel-item:first-child::after {align-self: flex-end;width: 50%;}#sk-container-id-8 div.sk-parallel-item:last-child::after {align-self: flex-start;width: 50%;}#sk-container-id-8 div.sk-parallel-item:only-child::after {width: 0;}#sk-container-id-8 div.sk-dashed-wrapped {border: 1px dashed gray;margin: 0 0.4em 0.5em 0.4em;box-sizing: border-box;padding-bottom: 0.4em;background-color: white;}#sk-container-id-8 div.sk-label label {font-family: monospace;font-weight: bold;display: inline-block;line-height: 1.2em;}#sk-container-id-8 div.sk-label-container {text-align: center;}#sk-container-id-8 div.sk-container {/* jupyter's `normalize.less` sets `[hidden] { display: none; }` but bootstrap.min.css set `[hidden] { display: none !important; }` so we also need the `!important` here to be able to override the default hidden behavior on the sphinx rendered scikit-learn.org. See: https://github.com/scikit-learn/scikit-learn/issues/21755 */display: inline-block !important;position: relative;}#sk-container-id-8 div.sk-text-repr-fallback {display: none;}</style><div id=\"sk-container-id-8\" class=\"sk-top-container\"><div class=\"sk-text-repr-fallback\"><pre>GridSearchCV(cv=3, estimator=RandomForestClassifier(),\n",
              "             param_grid={&#x27;bootstrap&#x27;: [True, False],\n",
              "                         &#x27;class_weight&#x27;: [None, &#x27;balanced&#x27;],\n",
              "                         &#x27;criterion&#x27;: [&#x27;gini&#x27;, &#x27;entropy&#x27;],\n",
              "                         &#x27;max_depth&#x27;: [10, 20, 30, None],\n",
              "                         &#x27;max_features&#x27;: [6, 8, 10],\n",
              "                         &#x27;min_samples_leaf&#x27;: [1, 2, 4],\n",
              "                         &#x27;min_samples_split&#x27;: [2, 5, 10],\n",
              "                         &#x27;n_estimators&#x27;: [50, 100, 150]})</pre><b>In a Jupyter environment, please rerun this cell to show the HTML representation or trust the notebook. <br />On GitHub, the HTML representation is unable to render, please try loading this page with nbviewer.org.</b></div><div class=\"sk-container\" hidden><div class=\"sk-item sk-dashed-wrapped\"><div class=\"sk-label-container\"><div class=\"sk-label sk-toggleable\"><input class=\"sk-toggleable__control sk-hidden--visually\" id=\"sk-estimator-id-12\" type=\"checkbox\" ><label for=\"sk-estimator-id-12\" class=\"sk-toggleable__label sk-toggleable__label-arrow\">GridSearchCV</label><div class=\"sk-toggleable__content\"><pre>GridSearchCV(cv=3, estimator=RandomForestClassifier(),\n",
              "             param_grid={&#x27;bootstrap&#x27;: [True, False],\n",
              "                         &#x27;class_weight&#x27;: [None, &#x27;balanced&#x27;],\n",
              "                         &#x27;criterion&#x27;: [&#x27;gini&#x27;, &#x27;entropy&#x27;],\n",
              "                         &#x27;max_depth&#x27;: [10, 20, 30, None],\n",
              "                         &#x27;max_features&#x27;: [6, 8, 10],\n",
              "                         &#x27;min_samples_leaf&#x27;: [1, 2, 4],\n",
              "                         &#x27;min_samples_split&#x27;: [2, 5, 10],\n",
              "                         &#x27;n_estimators&#x27;: [50, 100, 150]})</pre></div></div></div><div class=\"sk-parallel\"><div class=\"sk-parallel-item\"><div class=\"sk-item\"><div class=\"sk-label-container\"><div class=\"sk-label sk-toggleable\"><input class=\"sk-toggleable__control sk-hidden--visually\" id=\"sk-estimator-id-13\" type=\"checkbox\" ><label for=\"sk-estimator-id-13\" class=\"sk-toggleable__label sk-toggleable__label-arrow\">estimator: RandomForestClassifier</label><div class=\"sk-toggleable__content\"><pre>RandomForestClassifier()</pre></div></div></div><div class=\"sk-serial\"><div class=\"sk-item\"><div class=\"sk-estimator sk-toggleable\"><input class=\"sk-toggleable__control sk-hidden--visually\" id=\"sk-estimator-id-14\" type=\"checkbox\" ><label for=\"sk-estimator-id-14\" class=\"sk-toggleable__label sk-toggleable__label-arrow\">RandomForestClassifier</label><div class=\"sk-toggleable__content\"><pre>RandomForestClassifier()</pre></div></div></div></div></div></div></div></div></div></div>"
            ]
          },
          "metadata": {},
          "execution_count": 119
        }
      ]
    },
    {
      "cell_type": "code",
      "source": [
        "cv.best_params_"
      ],
      "metadata": {
        "colab": {
          "base_uri": "https://localhost:8080/"
        },
        "id": "Qe2PXO2XNH7n",
        "outputId": "8a489959-59b7-4579-99e2-c1ff083f2a6e"
      },
      "execution_count": null,
      "outputs": [
        {
          "output_type": "execute_result",
          "data": {
            "text/plain": [
              "{'bootstrap': True,\n",
              " 'class_weight': None,\n",
              " 'criterion': 'gini',\n",
              " 'max_depth': None,\n",
              " 'max_features': 6,\n",
              " 'min_samples_leaf': 4,\n",
              " 'min_samples_split': 5,\n",
              " 'n_estimators': 100}"
            ]
          },
          "metadata": {},
          "execution_count": 120
        }
      ]
    },
    {
      "cell_type": "code",
      "source": [
        "model = cv.best_estimator_"
      ],
      "metadata": {
        "id": "V6b8vifVQN2j"
      },
      "execution_count": null,
      "outputs": []
    },
    {
      "cell_type": "code",
      "source": [
        "model.fit(X_train, y_train)"
      ],
      "metadata": {
        "colab": {
          "base_uri": "https://localhost:8080/",
          "height": 74
        },
        "id": "7PNdOlGLQSlr",
        "outputId": "deeb9eeb-abf5-4544-bcfa-4e4c91827c33"
      },
      "execution_count": null,
      "outputs": [
        {
          "output_type": "execute_result",
          "data": {
            "text/plain": [
              "RandomForestClassifier(max_features=6, min_samples_leaf=4, min_samples_split=5)"
            ],
            "text/html": [
              "<style>#sk-container-id-9 {color: black;background-color: white;}#sk-container-id-9 pre{padding: 0;}#sk-container-id-9 div.sk-toggleable {background-color: white;}#sk-container-id-9 label.sk-toggleable__label {cursor: pointer;display: block;width: 100%;margin-bottom: 0;padding: 0.3em;box-sizing: border-box;text-align: center;}#sk-container-id-9 label.sk-toggleable__label-arrow:before {content: \"▸\";float: left;margin-right: 0.25em;color: #696969;}#sk-container-id-9 label.sk-toggleable__label-arrow:hover:before {color: black;}#sk-container-id-9 div.sk-estimator:hover label.sk-toggleable__label-arrow:before {color: black;}#sk-container-id-9 div.sk-toggleable__content {max-height: 0;max-width: 0;overflow: hidden;text-align: left;background-color: #f0f8ff;}#sk-container-id-9 div.sk-toggleable__content pre {margin: 0.2em;color: black;border-radius: 0.25em;background-color: #f0f8ff;}#sk-container-id-9 input.sk-toggleable__control:checked~div.sk-toggleable__content {max-height: 200px;max-width: 100%;overflow: auto;}#sk-container-id-9 input.sk-toggleable__control:checked~label.sk-toggleable__label-arrow:before {content: \"▾\";}#sk-container-id-9 div.sk-estimator input.sk-toggleable__control:checked~label.sk-toggleable__label {background-color: #d4ebff;}#sk-container-id-9 div.sk-label input.sk-toggleable__control:checked~label.sk-toggleable__label {background-color: #d4ebff;}#sk-container-id-9 input.sk-hidden--visually {border: 0;clip: rect(1px 1px 1px 1px);clip: rect(1px, 1px, 1px, 1px);height: 1px;margin: -1px;overflow: hidden;padding: 0;position: absolute;width: 1px;}#sk-container-id-9 div.sk-estimator {font-family: monospace;background-color: #f0f8ff;border: 1px dotted black;border-radius: 0.25em;box-sizing: border-box;margin-bottom: 0.5em;}#sk-container-id-9 div.sk-estimator:hover {background-color: #d4ebff;}#sk-container-id-9 div.sk-parallel-item::after {content: \"\";width: 100%;border-bottom: 1px solid gray;flex-grow: 1;}#sk-container-id-9 div.sk-label:hover label.sk-toggleable__label {background-color: #d4ebff;}#sk-container-id-9 div.sk-serial::before {content: \"\";position: absolute;border-left: 1px solid gray;box-sizing: border-box;top: 0;bottom: 0;left: 50%;z-index: 0;}#sk-container-id-9 div.sk-serial {display: flex;flex-direction: column;align-items: center;background-color: white;padding-right: 0.2em;padding-left: 0.2em;position: relative;}#sk-container-id-9 div.sk-item {position: relative;z-index: 1;}#sk-container-id-9 div.sk-parallel {display: flex;align-items: stretch;justify-content: center;background-color: white;position: relative;}#sk-container-id-9 div.sk-item::before, #sk-container-id-9 div.sk-parallel-item::before {content: \"\";position: absolute;border-left: 1px solid gray;box-sizing: border-box;top: 0;bottom: 0;left: 50%;z-index: -1;}#sk-container-id-9 div.sk-parallel-item {display: flex;flex-direction: column;z-index: 1;position: relative;background-color: white;}#sk-container-id-9 div.sk-parallel-item:first-child::after {align-self: flex-end;width: 50%;}#sk-container-id-9 div.sk-parallel-item:last-child::after {align-self: flex-start;width: 50%;}#sk-container-id-9 div.sk-parallel-item:only-child::after {width: 0;}#sk-container-id-9 div.sk-dashed-wrapped {border: 1px dashed gray;margin: 0 0.4em 0.5em 0.4em;box-sizing: border-box;padding-bottom: 0.4em;background-color: white;}#sk-container-id-9 div.sk-label label {font-family: monospace;font-weight: bold;display: inline-block;line-height: 1.2em;}#sk-container-id-9 div.sk-label-container {text-align: center;}#sk-container-id-9 div.sk-container {/* jupyter's `normalize.less` sets `[hidden] { display: none; }` but bootstrap.min.css set `[hidden] { display: none !important; }` so we also need the `!important` here to be able to override the default hidden behavior on the sphinx rendered scikit-learn.org. See: https://github.com/scikit-learn/scikit-learn/issues/21755 */display: inline-block !important;position: relative;}#sk-container-id-9 div.sk-text-repr-fallback {display: none;}</style><div id=\"sk-container-id-9\" class=\"sk-top-container\"><div class=\"sk-text-repr-fallback\"><pre>RandomForestClassifier(max_features=6, min_samples_leaf=4, min_samples_split=5)</pre><b>In a Jupyter environment, please rerun this cell to show the HTML representation or trust the notebook. <br />On GitHub, the HTML representation is unable to render, please try loading this page with nbviewer.org.</b></div><div class=\"sk-container\" hidden><div class=\"sk-item\"><div class=\"sk-estimator sk-toggleable\"><input class=\"sk-toggleable__control sk-hidden--visually\" id=\"sk-estimator-id-15\" type=\"checkbox\" checked><label for=\"sk-estimator-id-15\" class=\"sk-toggleable__label sk-toggleable__label-arrow\">RandomForestClassifier</label><div class=\"sk-toggleable__content\"><pre>RandomForestClassifier(max_features=6, min_samples_leaf=4, min_samples_split=5)</pre></div></div></div></div></div>"
            ]
          },
          "metadata": {},
          "execution_count": 122
        }
      ]
    },
    {
      "cell_type": "code",
      "source": [
        "y_pred_actual_random_forest_tuned = model.predict(X_test)\n",
        "accuracy = accuracy_score(y_test,y_pred_actual_random_forest_tuned)\n",
        "accuracy"
      ],
      "metadata": {
        "colab": {
          "base_uri": "https://localhost:8080/"
        },
        "id": "TE63iwWXQU9B",
        "outputId": "8529d4e9-3bc2-48e2-f56e-49a45445e440"
      },
      "execution_count": null,
      "outputs": [
        {
          "output_type": "execute_result",
          "data": {
            "text/plain": [
              "0.8227513227513228"
            ]
          },
          "metadata": {},
          "execution_count": 123
        }
      ]
    },
    {
      "cell_type": "code",
      "source": [
        "mean_test_scores = cv.cv_results_['mean_test_score']\n",
        "mean_test_scores"
      ],
      "metadata": {
        "colab": {
          "base_uri": "https://localhost:8080/"
        },
        "id": "AdgcL7WSQ_fP",
        "outputId": "eeb7f233-435f-4891-9699-967962c98f6e"
      },
      "execution_count": null,
      "outputs": [
        {
          "output_type": "execute_result",
          "data": {
            "text/plain": [
              "array([0.78274604, 0.78955379, 0.8168995 , 0.78844871, 0.79639283,\n",
              "       0.8270955 , 0.76795246, 0.80094871, 0.8191201 , 0.77473937,\n",
              "       0.79639283, 0.81457465, 0.75090701, 0.76797331, 0.75889283,\n",
              "       0.79523561, 0.77133028, 0.78049416])"
            ]
          },
          "metadata": {},
          "execution_count": 116
        }
      ]
    },
    {
      "cell_type": "code",
      "source": [
        "best_mean_test_score = cv.best_score_\n",
        "best_mean_test_score"
      ],
      "metadata": {
        "colab": {
          "base_uri": "https://localhost:8080/"
        },
        "id": "CSpZm6STRJca",
        "outputId": "2ac839da-e481-4644-80c3-306aec3bc8da"
      },
      "execution_count": null,
      "outputs": [
        {
          "output_type": "execute_result",
          "data": {
            "text/plain": [
              "0.8293682235195996"
            ]
          },
          "metadata": {},
          "execution_count": 108
        }
      ]
    }
  ]
}